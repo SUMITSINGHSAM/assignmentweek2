{
 "cells": [
  {
   "cell_type": "markdown",
   "id": "d12c029d-6a51-4570-89b6-fdca2be31c75",
   "metadata": {
    "tags": []
   },
   "source": [
    "Q1. How do you comment code in python?What are the different types of comments?"
   ]
  },
  {
   "cell_type": "markdown",
   "id": "14030b90-28b1-401d-a089-5632554c008b",
   "metadata": {},
   "source": [
    "Ans1 By using hash(#) and use of triple quotes('''  ''' ) .There are two tpes of comments \n",
    "(i)Single line (ii) multiline code"
   ]
  },
  {
   "cell_type": "code",
   "execution_count": 2,
   "id": "ac29df17-05e6-48db-8cb3-5de7711fa635",
   "metadata": {},
   "outputs": [
    {
     "name": "stdout",
     "output_type": "stream",
     "text": [
      "6\n"
     ]
    }
   ],
   "source": [
    "#This is a example of single line comments\n",
    "#This is function of addition \n",
    "def sum(a,b=2):\n",
    "    return a+b\n",
    "print(sum(4))"
   ]
  },
  {
   "cell_type": "code",
   "execution_count": 3,
   "id": "aee6e67b-2e47-4d03-9d4d-aa011ee91e66",
   "metadata": {},
   "outputs": [
    {
     "name": "stdout",
     "output_type": "stream",
     "text": [
      "this is a example of multiline comments\n"
     ]
    }
   ],
   "source": [
    "\"\"\" this is a function of multi line comment .using def keyword python create a function \n",
    "   there a defaunt argument ,positional argument and keyword argument. \n",
    "   so, function is a first class citizen in python \"\"\"\n",
    "print(\"this is a example of multiline comments\")"
   ]
  },
  {
   "cell_type": "markdown",
   "id": "aa1c5acf-4fb3-4b7a-a86c-771f3b8a618d",
   "metadata": {},
   "source": [
    "Q2. What are the variable in python? how do you declare and assign value to variables?"
   ]
  },
  {
   "cell_type": "markdown",
   "id": "07c9be0d-dd8b-4899-99b0-a126c088ac2a",
   "metadata": {},
   "source": [
    "Ans2. Variables are label or tag that point to memory location of an object."
   ]
  },
  {
   "cell_type": "code",
   "execution_count": 2,
   "id": "db68c310-4a99-417e-a32f-057dc32bb094",
   "metadata": {},
   "outputs": [],
   "source": [
    "#declare and assign value\n",
    "a=5"
   ]
  },
  {
   "cell_type": "markdown",
   "id": "d9cdb245-2252-4b90-ad47-111a2894f9f6",
   "metadata": {},
   "source": [
    "Q3. how do you convert one data type to another in python"
   ]
  },
  {
   "cell_type": "code",
   "execution_count": 25,
   "id": "44ffea3d-55f2-41a4-9407-d1e25da7ef2f",
   "metadata": {},
   "outputs": [
    {
     "name": "stdin",
     "output_type": "stream",
     "text": [
      "enter the numeric value 24\n"
     ]
    },
    {
     "name": "stdout",
     "output_type": "stream",
     "text": [
      "29\n"
     ]
    }
   ],
   "source": [
    "#Ans3 by using inbuilt function like int,float \n",
    "# for example\n",
    "a=input(\"enter the numeric value\") #by default input function take as string\n",
    "a=int(a)\n",
    "print(5+a)"
   ]
  },
  {
   "cell_type": "markdown",
   "id": "3741e422-2be0-424a-a0cd-e08be933d58c",
   "metadata": {},
   "source": [
    "Q4. How do you write and execute a python script from the command line?"
   ]
  },
  {
   "cell_type": "markdown",
   "id": "4e4988d7-5365-4ed5-84d1-20259535039c",
   "metadata": {},
   "source": [
    "Ans4. go to search and type cmd to run python script after that we need \n",
    "type python followed by file name and then press then enter buttton"
   ]
  },
  {
   "cell_type": "markdown",
   "id": "b4c415f5-5465-48a5-8715-d51746000ec8",
   "metadata": {},
   "source": [
    "Q5. Given a list my_list=[1,2,3,4,5],write the code to slice the list and\n",
    "obtain the sub-list [2,3]."
   ]
  },
  {
   "cell_type": "code",
   "execution_count": 3,
   "id": "b9904b29-7758-4de6-9c9c-542bd48046e0",
   "metadata": {},
   "outputs": [
    {
     "name": "stdout",
     "output_type": "stream",
     "text": [
      "[2, 3]\n",
      "[2, 3]\n"
     ]
    }
   ],
   "source": [
    "#Ans5.\n",
    "my_list=[1,2,3,4,5]\n",
    "print(my_list[1:3])\n",
    "print(my_list[-4:-2])"
   ]
  },
  {
   "cell_type": "markdown",
   "id": "ca268a91-3cdc-4fa2-8391-f0ee43ffdd38",
   "metadata": {},
   "source": [
    "Q6. What is a complex number in mathematics, and how is it represented in python?"
   ]
  },
  {
   "cell_type": "raw",
   "id": "edbca227-5b0b-450d-a3a8-c43afd6c7984",
   "metadata": {},
   "source": [
    "#Ans6.\n",
    "complex number can be expressed in the form a+ib where a is the real part and\n",
    "ib is the imaginary part ,where i is the iota \n",
    "in the python it is represented by a+bj where a is the real part and bj is the imaginary part"
   ]
  },
  {
   "cell_type": "code",
   "execution_count": 8,
   "id": "a2b5c23e-af50-48cc-a280-514d0a610949",
   "metadata": {},
   "outputs": [
    {
     "name": "stdout",
     "output_type": "stream",
     "text": [
      "(4+6j)\n",
      "the real part 4.0 and imaginary part 6.0\n"
     ]
    }
   ],
   "source": [
    "a=4+6j\n",
    "print(a)\n",
    "print(f\"the real part {a.real}\",f\"and imaginary part {a.imag}\")"
   ]
  },
  {
   "cell_type": "markdown",
   "id": "8b0fbc45-e985-4fe9-805a-4f3f86c1f9f4",
   "metadata": {},
   "source": [
    "Q7. what is a correct way to declare a variable named age and assign the value 25 to it"
   ]
  },
  {
   "cell_type": "raw",
   "id": "7d10ebc6-1878-47d3-b2ff-0454f3949fb5",
   "metadata": {},
   "source": [
    "Ans7. first write a variable name followed by equal sign(=) and followed by datatype \n",
    "   age=25\n",
    "   age=int(input(\"enter the value of age\"))\n",
    "   "
   ]
  },
  {
   "cell_type": "raw",
   "id": "f99931c1-eaa7-4918-bd36-7dc57ad9a389",
   "metadata": {},
   "source": [
    "Q8. declare a variable named price and assign the value 9.99 to it.what data types does this\n",
    "variable belongs to?"
   ]
  },
  {
   "cell_type": "raw",
   "id": "9d089d91-cb01-4879-868a-e79688fa1d14",
   "metadata": {},
   "source": [
    "Ans8. price=9.99 ,this variable belongs to float data types"
   ]
  },
  {
   "cell_type": "raw",
   "id": "11f0fd1d-0ce3-4dfd-879a-bfc71bd47442",
   "metadata": {},
   "source": [
    "Q9. Create a variable named name and assign your full name to it as a string .how would you\n",
    "print the value of this variable?"
   ]
  },
  {
   "cell_type": "code",
   "execution_count": 9,
   "id": "3b6e51a4-994f-49e9-a545-3df2949c3de8",
   "metadata": {},
   "outputs": [
    {
     "name": "stdout",
     "output_type": "stream",
     "text": [
      "python programming\n"
     ]
    }
   ],
   "source": [
    "#Ans9\n",
    "name=\"python programming\"\n",
    "#using the print function print the value of this variable\n",
    "print(name)"
   ]
  },
  {
   "cell_type": "raw",
   "id": "9ed925cf-678e-4b4e-8082-090ba87a38a1",
   "metadata": {},
   "source": [
    "Q10. Given the string \"hello,world\",extract the substring \"world\"."
   ]
  },
  {
   "cell_type": "code",
   "execution_count": 19,
   "id": "51b8dba9-d524-4cce-98c8-f73e0d25547c",
   "metadata": {},
   "outputs": [
    {
     "name": "stdout",
     "output_type": "stream",
     "text": [
      "world\n",
      "world\n",
      "world\n"
     ]
    }
   ],
   "source": [
    "str1=\"hello,world\"\n",
    "print(str1[6:11])\n",
    "print(str1[-5:])\n",
    "print(str1[-5:11])"
   ]
  },
  {
   "cell_type": "raw",
   "id": "89eba2da-00a8-4690-b91d-d10df2e1d567",
   "metadata": {},
   "source": [
    "Q11. create a variable named \"is_student\" and assign it a boolean value \n",
    "indicating whether you are currently a student or not."
   ]
  },
  {
   "cell_type": "code",
   "execution_count": 22,
   "id": "22692ada-f6e8-4ea0-b175-aaaa24740e43",
   "metadata": {},
   "outputs": [
    {
     "name": "stdout",
     "output_type": "stream",
     "text": [
      "True\n"
     ]
    }
   ],
   "source": [
    "#Ans11\n",
    "is_student=True\n",
    "print(is_student==True)"
   ]
  },
  {
   "cell_type": "code",
   "execution_count": null,
   "id": "526fa26b-6d4c-48b0-9df9-d359d38d223e",
   "metadata": {},
   "outputs": [],
   "source": []
  }
 ],
 "metadata": {
  "kernelspec": {
   "display_name": "Python 3 (ipykernel)",
   "language": "python",
   "name": "python3"
  },
  "language_info": {
   "codemirror_mode": {
    "name": "ipython",
    "version": 3
   },
   "file_extension": ".py",
   "mimetype": "text/x-python",
   "name": "python",
   "nbconvert_exporter": "python",
   "pygments_lexer": "ipython3",
   "version": "3.10.8"
  }
 },
 "nbformat": 4,
 "nbformat_minor": 5
}
